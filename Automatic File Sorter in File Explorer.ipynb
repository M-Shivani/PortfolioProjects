{
  "cells": [
    {
      "cell_type": "code",
      "execution_count": null,
      "metadata": {
        "id": "Sm4mr_psRVnq"
      },
      "outputs": [],
      "source": [
        "import os,shutil"
      ]
    },
    {
      "cell_type": "code",
      "execution_count": null,
      "metadata": {
        "colab": {
          "base_uri": "https://localhost:8080/"
        },
        "id": "1-XX81y8RVns",
        "outputId": "8ad6bc59-757c-438b-d801-2a1c2cca9009"
      },
      "outputs": [
        {
          "output_type": "stream",
          "name": "stdout",
          "text": [
            "Mounted at /content/drive\n"
          ]
        }
      ],
      "source": [
        "from google.colab import drive\n",
        "drive.mount('/content/drive')"
      ]
    },
    {
      "cell_type": "code",
      "source": [
        "path = r'/content/drive/My Drive/Pythonproject/'"
      ],
      "metadata": {
        "id": "eigoiPKVSGBv"
      },
      "execution_count": 13,
      "outputs": []
    },
    {
      "cell_type": "code",
      "execution_count": 14,
      "metadata": {
        "id": "z8iRTmDmRVns"
      },
      "outputs": [],
      "source": [
        "file_name=os.listdir(path)"
      ]
    },
    {
      "cell_type": "code",
      "execution_count": 15,
      "metadata": {
        "id": "mdK5a4KgRVnt",
        "colab": {
          "base_uri": "https://localhost:8080/"
        },
        "outputId": "7af2952b-c5a5-4c74-f0fc-db7f31b7eb90"
      },
      "outputs": [
        {
          "output_type": "stream",
          "name": "stdout",
          "text": [
            "/content/drive/My Drive/Pythonproject/csv files\n",
            "/content/drive/My Drive/Pythonproject/image files\n",
            "/content/drive/My Drive/Pythonproject/text files\n"
          ]
        }
      ],
      "source": [
        "folder_names=['csv files','image files','text files']\n",
        "\n",
        "for loop in range(0,3):\n",
        "    if not os.path.exists(path+folder_names[loop]):\n",
        "        print(path+folder_names[loop])\n",
        "        os.makedirs(path+folder_names[loop])\n",
        "\n",
        "for file in file_name:\n",
        "    if \".csv\" in file and not os.path.exists(path+\"csv files/\"+file):\n",
        "        shutil.move(path+file,path+\"csv files/\"+file)\n",
        "    elif \".png\" in file and not os.path.exists(path+\"image files/\"+file):\n",
        "        shutil.move(path+file,path+\"image files/\"+file)\n",
        "    elif \".txt\" in file and not os.path.exists(path+\"text files/\"+file):\n",
        "        shutil.move(path+file,path+\"text files/\"+file)"
      ]
    }
  ],
  "metadata": {
    "kernelspec": {
      "display_name": "Python 3",
      "language": "python",
      "name": "python3"
    },
    "language_info": {
      "codemirror_mode": {
        "name": "ipython",
        "version": 3
      },
      "file_extension": ".py",
      "mimetype": "text/x-python",
      "name": "python",
      "nbconvert_exporter": "python",
      "pygments_lexer": "ipython3",
      "version": "3.9.6"
    },
    "colab": {
      "provenance": []
    }
  },
  "nbformat": 4,
  "nbformat_minor": 0
}